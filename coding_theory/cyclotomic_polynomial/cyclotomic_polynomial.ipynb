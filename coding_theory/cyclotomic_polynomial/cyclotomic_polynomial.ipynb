{
 "cells": [
  {
   "cell_type": "code",
   "execution_count": 28,
   "id": "b34abe3b-e20c-46ce-99a8-dec049d557a2",
   "metadata": {},
   "outputs": [
    {
     "name": "stdout",
     "output_type": "stream",
     "text": [
      "Input: x^5 + x^4 + x^3 + x^2 + 1\n",
      "[1]: h = x^2 + x, w = x^5 + x^4 + x^3 + x^2 + 1, g = 1\n",
      "[2]: h = x^4 + x, w = x^5 + x^4 + x^3 + x^2 + 1, g = 1\n",
      "[3]: h = x^4 + x^3 + x^2 + x, w = x^5 + x^4 + x^3 + x^2 + 1, g = 1\n",
      "[4]: h = x^3 + 1, w = x^5 + x^4 + x^3 + x^2 + 1, g = 1\n",
      "[5]: h = 0, w = x^5 + x^4 + x^3 + x^2 + 1, g = x^5 + x^4 + x^3 + x^2 + 1\n",
      "DDF Factors:\n",
      "Degree 5: x^5 + x^4 + x^3 + x^2 + 1\n",
      "\n",
      "Verification: x^5 + x^4 + x^3 + x^2 + 1\n"
     ]
    }
   ],
   "source": [
    "def distinct_degree_factorization(f):\n",
    "    if not f.is_squarefree():\n",
    "        raise ValueError(\"Polynomial must be square-free.\")\n",
    "    \n",
    "    Fq = f.base_ring()\n",
    "    q = Fq.cardinality()\n",
    "    R = f.parent()\n",
    "    x = R.gen()\n",
    "    factors = []\n",
    "    w = f\n",
    "    \n",
    "    d = 1\n",
    "    while d <= w.degree() and w.degree() > 0:\n",
    "        # Compute x^(q^d) mod w(x)\n",
    "        h = x\n",
    "        for _ in range(d):\n",
    "            h = (h^q) % w  # Explicit finite field powering\n",
    "        \n",
    "        # Compute GCD(w, h - x)\n",
    "        g = w.gcd(h - x)\n",
    "\n",
    "        print(\"[{0}]: h = {1}, w = {2}, g = {3}\".format(d, h - x, w, g))\n",
    "        \n",
    "        if g != 1:\n",
    "            factors.append((d, g))\n",
    "            w = w // g  # Remove factors of degree d\n",
    "        d += 1\n",
    "    \n",
    "    return factors\n",
    "\n",
    "\n",
    "# Example in GF(2)\n",
    "F2 = GF(2)\n",
    "R.<x> = PolynomialRing(F2, 'x')\n",
    "f = x^5 + x^4 + x^3 + x^2 + 1\n",
    "print(\"Input:\", f)\n",
    "\n",
    "ddf_factors = distinct_degree_factorization(f)\n",
    "print(\"DDF Factors:\")\n",
    "for d, g in ddf_factors:\n",
    "    print(f\"Degree {d}: {g}\")\n",
    "\n",
    "# Verify with Sage's factorization\n",
    "print(\"\\nVerification:\", f.factor())"
   ]
  },
  {
   "cell_type": "code",
   "execution_count": 29,
   "id": "d528a52a-2625-4bf0-96eb-0d0a640d0730",
   "metadata": {},
   "outputs": [
    {
     "data": {
      "text/plain": [
       "1"
      ]
     },
     "execution_count": 29,
     "metadata": {},
     "output_type": "execute_result"
    }
   ],
   "source": [
    "(17 ^ 2) % 12"
   ]
  },
  {
   "cell_type": "code",
   "execution_count": 30,
   "id": "e18d2868-72f0-442a-b67e-c020c9b94cde",
   "metadata": {},
   "outputs": [
    {
     "name": "stdout",
     "output_type": "stream",
     "text": [
      "2\n",
      "4\n",
      "6\n",
      "8\n",
      "10\n",
      "12\n",
      "14\n",
      "16\n",
      "18\n",
      "20\n",
      "22\n",
      "24\n",
      "26\n",
      "28\n",
      "30\n",
      "32\n",
      "34\n",
      "36\n",
      "38\n",
      "40\n",
      "42\n",
      "44\n",
      "46\n",
      "48\n"
     ]
    }
   ],
   "source": [
    "for i in range(1, 50):\n",
    "    if ((17 ^ i) - 1) % 12 == 0:\n",
    "        print(i)"
   ]
  },
  {
   "cell_type": "code",
   "execution_count": 35,
   "id": "bb8ff1ba-cfce-4786-b897-ecd1d8eb6d51",
   "metadata": {},
   "outputs": [
    {
     "data": {
      "text/plain": [
       "x^12 + 16"
      ]
     },
     "execution_count": 35,
     "metadata": {},
     "output_type": "execute_result"
    }
   ],
   "source": [
    "F17 = GF(17)\n",
    "R.<x> = PolynomialRing(F17, 'x')\n",
    "fx = x ^ 288 - 1\n",
    "gx = x ^ 12 - 1\n",
    "gx.gcd(fx)"
   ]
  },
  {
   "cell_type": "code",
   "execution_count": null,
   "id": "d7e94eea-f4ae-409a-b163-84e1bd9a2a70",
   "metadata": {},
   "outputs": [],
   "source": []
  }
 ],
 "metadata": {
  "kernelspec": {
   "display_name": "SageMath 10.2",
   "language": "sage",
   "name": "sagemath-10.2"
  },
  "language_info": {
   "codemirror_mode": {
    "name": "ipython",
    "version": 3
   },
   "file_extension": ".py",
   "mimetype": "text/x-python",
   "name": "python",
   "nbconvert_exporter": "python",
   "pygments_lexer": "ipython3",
   "version": "3.11.1"
  }
 },
 "nbformat": 4,
 "nbformat_minor": 5
}
