{
 "cells": [
  {
   "cell_type": "code",
   "execution_count": 37,
   "id": "e98ec506-2405-477b-b7ae-26928eeed421",
   "metadata": {},
   "outputs": [
    {
     "name": "stdout",
     "output_type": "stream",
     "text": [
      "N = 3953, phi_N = 3828, phi(phi_N) = 1119\n"
     ]
    }
   ],
   "source": [
    "# 16-bit RSA (trivially breakable!)\n",
    "import random\n",
    "p = 59\n",
    "q = 67\n",
    "N = p * q\n",
    "phi_N = (p - 1) * (q - 1)\n",
    "\n",
    "class E(object):\n",
    "    # phi_N = 4291297920\n",
    "    phi_N = (p - 1) * (q - 1)\n",
    "\n",
    "    def __init__(self, x):\n",
    "        #assert(gcd(x, self.phi_N) == 1)\n",
    "        self.v = x % self.phi_N\n",
    "\n",
    "    def __repr__(self):\n",
    "        return \"{0}\".format(self.v)\n",
    "\n",
    "    def __eq__(self, other):\n",
    "        return self.v == other.v\n",
    "\n",
    "    def __add__(self, other):\n",
    "        return E((self.v + other.v) % self.phi_N)\n",
    "\n",
    "    def __neg__(self):\n",
    "        return E(self.phi_N - self.v)\n",
    "\n",
    "    def __sub__(self, other):\n",
    "        return self + (-other)\n",
    "\n",
    "    def __mul__(self, other):\n",
    "        return E((self.v * other.v) % self.phi_N)\n",
    "\n",
    "    def __pow__(self, exp):\n",
    "        return E(pow(self.v, exp, self.phi_N))\n",
    "    \n",
    "    def __truediv__(self, other):\n",
    "        return self * (other ** (-1))\n",
    "\n",
    "# class F(object):\n",
    "#     # 3233 = 53 * 61\n",
    "#     N = 3233\n",
    "\n",
    "#     def __init__(self, x):\n",
    "#         self.v = x % self.N\n",
    "\n",
    "#     def __repr__(self):\n",
    "#         return \"{0}\".format(self.v)\n",
    "\n",
    "#     def __eq__(self, other):\n",
    "#         return self.v == other.v\n",
    "\n",
    "#     def __add__(self, other):\n",
    "#         return Element((self.v + other.v) % self.N)\n",
    "\n",
    "#     def __neg__(self):\n",
    "#         return Element(self.N - self.v)\n",
    "\n",
    "#     def __sub__(self, other):\n",
    "#         return self + (-other)\n",
    "\n",
    "#     def __mul__(self, other):\n",
    "#         return Element((self.v * other.v) % self.N)\n",
    "\n",
    "#     def __pow__(self, exp):\n",
    "#         return Element(pow(self.v, exp, self.N))\n",
    "    \n",
    "#     def __truediv__(self, other):\n",
    "#         return self * (other ** (-1))\n",
    "\n",
    "primes = []\n",
    "for x in range(2, phi_N):\n",
    "    if gcd(x, phi_N) == 1:\n",
    "        primes.append(x)\n",
    "\n",
    "assert(len(primes) >= 5)\n",
    "\n",
    "print(\"N = {0}, phi_N = {1}, phi(phi_N) = {2}\".format(N, phi_N, len(primes)))\n",
    "\n",
    "cnt = 0\n",
    "while cnt < 10000000:\n",
    "    # pks of RSA\n",
    "    pks = random.sample(primes, 5)\n",
    "    e = [E(v) for v in pks]\n",
    "    # sks of RSA\n",
    "    d = [(v ** -1) for v in e]\n",
    "    # check\n",
    "    for i in range(5):\n",
    "        assert(e[i] * d[i] == E(1))\n",
    "    # h\n",
    "    h = e1 * e4 * d2 - e3\n",
    "    if gcd(h.v, phi_N) == 1:\n",
    "        print(pks)\n",
    "        break\n",
    "    cnt += 1\n",
    "\n",
    "\n",
    "# output labels\n",
    "# c0, c1 = F(100), F(200) # 100 denotes False, 200 denotes True\n",
    "# b0 = (c1 * (c0 ** -1)) ** (h ** -1).v\n",
    "# b1 = b0 ** (e1 * d2).v\n",
    "# a0 = (c0 ** d.v) * (b0 ** (-e1 * d).v)\n",
    "# a1 = (c0 ** d.v) * (b0 ** (-e3 * d).v)\n",
    "# print(b0, b1, a0, a1)\n",
    "\n",
    "\n",
    "# (a0 ** e.v) * (b0 ** e1.v) == c0"
   ]
  },
  {
   "cell_type": "code",
   "execution_count": 10,
   "id": "7b403139-3b74-44ac-9b9b-acda6a8703da",
   "metadata": {},
   "outputs": [
    {
     "data": {
      "text/plain": [
       "3120"
      ]
     },
     "execution_count": 10,
     "metadata": {},
     "output_type": "execute_result"
    }
   ],
   "source": [
    "from hashlib import sha256\n",
    "\n",
    "#### Setup Parameters of Garbled Circuit\n",
    "# 3233 = 53 * 61\n",
    "N = 3233\n",
    "# phi_N = 52 * 60\n",
    "phi_N = 3120\n",
    "# exps are all coprimes against phi_N\n",
    "e, e1, e2, e3, e4 = 7, 11, 17, 19, 23\n",
    "assert(pow(e, phi_N, N) == 1)\n",
    "#d2 = pow(e2, -1, phi_N)\n",
    "h = (e1 * e4 * d2 - e3) % phi_N\n",
    "\n",
    "def rsa_encrpt(a, b):\n",
    "    return ((a ^ e) * (b ^ e1)) % N\n",
    "\n",
    "def inv_mod(x):\n",
    "    return pow(x, -1, N)\n",
    "\n",
    "def pow_mod(x, y):\n",
    "    return pow(x, y, N)\n",
    "\n",
    "#### Create GC table\n",
    "# output labels are public for evaluator\n",
    "c = [100, 200]\n",
    "# input labels are secret for evaluator\n",
    "b0 = pow_mod(c[1] * inv_mod(c[0]), inv_mod(h))\n",
    "b1 = pow_mod(b0, e1, inv_mod(e2))\n",
    "a0 = pow_mod(c[0], inv_mod(e)) * pow_mod(b0, -e1 * )\n",
    "\n",
    "\n",
    "\n",
    "\n",
    "enc_c = []\n",
    "for a_i in a_labels:\n",
    "    for b_i in b_labels:\n",
    "        enc_c.append(rsa_encrpt(a_i, b_i))\n",
    "print(enc_c)"
   ]
  },
  {
   "cell_type": "code",
   "execution_count": 22,
   "id": "7f346898-72c0-46d8-8cc2-b619cf285f09",
   "metadata": {},
   "outputs": [
    {
     "name": "stdout",
     "output_type": "stream",
     "text": [
      "3877 751 2911627 2907000\n"
     ]
    }
   ],
   "source": [
    "p = random_prime(2^12 - 1, lbound = 2 ^ 11)\n",
    "q = random_prime(2^10 - 1, lbound = 2 ^ 8)\n",
    "N = p * q\n",
    "phi_N = (p - 1) * (q - 1)\n",
    "print(p, q, N, phi_N)"
   ]
  },
  {
   "cell_type": "code",
   "execution_count": null,
   "id": "3acf863a-52d4-408d-8404-9da41dca909a",
   "metadata": {},
   "outputs": [],
   "source": []
  }
 ],
 "metadata": {
  "kernelspec": {
   "display_name": "SageMath 10.2",
   "language": "sage",
   "name": "sagemath-10.2"
  },
  "language_info": {
   "codemirror_mode": {
    "name": "ipython",
    "version": 3
   },
   "file_extension": ".py",
   "mimetype": "text/x-python",
   "name": "python",
   "nbconvert_exporter": "python",
   "pygments_lexer": "ipython3",
   "version": "3.11.1"
  }
 },
 "nbformat": 4,
 "nbformat_minor": 5
}
