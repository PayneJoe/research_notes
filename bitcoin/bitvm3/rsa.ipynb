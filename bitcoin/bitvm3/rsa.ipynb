{
 "cells": [
  {
   "cell_type": "code",
   "execution_count": 33,
   "id": "b60d3834-c998-45e7-b783-c30e78201121",
   "metadata": {},
   "outputs": [
    {
     "name": "stdout",
     "output_type": "stream",
     "text": [
      "p = 17, q = 5, N = 85, phi_N = 64\n",
      "1 1\n",
      "3 16\n",
      "5 16\n",
      "7 8\n",
      "9 8\n",
      "11 16\n",
      "13 16\n",
      "15 4\n",
      "17 4\n",
      "19 16\n",
      "21 16\n",
      "23 8\n",
      "25 8\n",
      "27 16\n",
      "29 16\n",
      "31 2\n",
      "33 2\n",
      "35 16\n",
      "37 16\n",
      "39 8\n",
      "41 8\n",
      "43 16\n",
      "45 16\n",
      "47 4\n",
      "49 4\n",
      "51 16\n",
      "53 16\n",
      "55 8\n",
      "57 8\n",
      "59 16\n",
      "61 16\n",
      "63 2\n"
     ]
    }
   ],
   "source": [
    "#p = random_prime(2^4 - 1, lbound = 2 ^ 2)\n",
    "#q = random_prime(2^5 - 1, lbound = 2 ^ 4)\n",
    "p = 59\n",
    "q = 67\n",
    "N = p * q\n",
    "phi_N = (p - 1) * (q - 1)\n",
    "print(\"p = {0}, q = {1}, N = {2}, phi_N = {3}\".format(p, q, N, phi_N))\n",
    "\n",
    "e, e1, e2, e3, e4 = 5, 7, 13, 23, 7\n",
    "d, d1, d2, d3, d4 = \n",
    "\n",
    "# for x in range(phi_N):\n",
    "#     if gcd(x, phi_N) == 1:\n",
    "#         a = Mod(x, phi_N)\n",
    "#         print(x, a.multiplicative_order())\n",
    "\n",
    "# import random\n",
    "\n",
    "# S = [pow(5, i, phi_N) for i in range(18)]\n",
    "# print(S)\n",
    "# data = random.sample(S, 4)\n",
    "\n",
    "# h = (data[0] * data[3] * pow(data[1], -1, phi_N) - data[2]) % phi_N\n",
    "# gcd(h, phi_N)"
   ]
  },
  {
   "cell_type": "code",
   "execution_count": 22,
   "id": "f939743f-4645-4ecf-b0d7-c1ab5f7eb5cc",
   "metadata": {},
   "outputs": [
    {
     "name": "stdout",
     "output_type": "stream",
     "text": [
      "1 1\n",
      "5 18\n",
      "7 18\n",
      "11 18\n",
      "17 6\n",
      "23 18\n",
      "25 9\n",
      "29 18\n",
      "31 18\n",
      "35 6\n",
      "37 6\n",
      "41 18\n",
      "43 18\n",
      "47 18\n",
      "49 9\n",
      "53 2\n",
      "55 2\n",
      "59 18\n",
      "61 18\n",
      "67 18\n",
      "71 6\n",
      "73 3\n",
      "77 18\n",
      "79 18\n",
      "83 18\n",
      "85 18\n",
      "89 6\n",
      "97 9\n",
      "101 18\n",
      "103 18\n",
      "107 2\n",
      "109 2\n",
      "113 18\n",
      "115 18\n",
      "119 18\n",
      "121 9\n",
      "125 6\n",
      "127 6\n",
      "131 18\n",
      "137 18\n",
      "139 18\n",
      "145 3\n",
      "149 18\n",
      "151 18\n",
      "155 18\n",
      "157 18\n",
      "161 2\n",
      "163 2\n",
      "167 18\n",
      "173 18\n",
      "175 18\n",
      "179 6\n",
      "181 6\n",
      "185 18\n",
      "187 18\n",
      "191 18\n",
      "193 9\n",
      "197 6\n",
      "199 6\n",
      "203 18\n",
      "205 18\n",
      "211 18\n",
      "215 2\n",
      "217 1\n",
      "223 18\n",
      "227 18\n",
      "229 18\n",
      "233 6\n",
      "235 6\n",
      "239 18\n",
      "241 9\n",
      "245 18\n"
     ]
    }
   ],
   "source": [
    "S = []\n",
    "for x in range(N):\n",
    "    if gcd(x, N) == 1:\n",
    "        S.append(x)\n",
    "        if gcd(x, phi_N) == 1:\n",
    "            a = Mod(x, phi_N)\n",
    "            print(x, a.multiplicative_order())"
   ]
  },
  {
   "cell_type": "code",
   "execution_count": 32,
   "id": "c087a3cd-a7cf-4659-9175-aa4aa6f37ebc",
   "metadata": {},
   "outputs": [
    {
     "name": "stdout",
     "output_type": "stream",
     "text": [
      "[1, 5, 25, 125, 193, 101, 73, 149, 97, 53, 49, 29, 145, 77, 169, 197, 121, 173]\n"
     ]
    },
    {
     "data": {
      "text/plain": [
       "4"
      ]
     },
     "execution_count": 32,
     "metadata": {},
     "output_type": "execute_result"
    }
   ],
   "source": []
  },
  {
   "cell_type": "code",
   "execution_count": null,
   "id": "06a87a01-8ae4-4cf4-ad40-b70fb2f53d7c",
   "metadata": {},
   "outputs": [],
   "source": []
  }
 ],
 "metadata": {
  "kernelspec": {
   "display_name": "SageMath 10.2",
   "language": "sage",
   "name": "sagemath-10.2"
  },
  "language_info": {
   "codemirror_mode": {
    "name": "ipython",
    "version": 3
   },
   "file_extension": ".py",
   "mimetype": "text/x-python",
   "name": "python",
   "nbconvert_exporter": "python",
   "pygments_lexer": "ipython3",
   "version": "3.11.1"
  }
 },
 "nbformat": 4,
 "nbformat_minor": 5
}
